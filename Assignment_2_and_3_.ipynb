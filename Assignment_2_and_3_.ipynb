{
  "nbformat": 4,
  "nbformat_minor": 0,
  "metadata": {
    "colab": {
      "name": "Assignment - 2 and 3 .ipynb",
      "provenance": [],
      "collapsed_sections": [],
      "include_colab_link": true
    },
    "kernelspec": {
      "name": "python3",
      "display_name": "Python 3"
    },
    "language_info": {
      "name": "python"
    }
  },
  "cells": [
    {
      "cell_type": "markdown",
      "metadata": {
        "id": "view-in-github",
        "colab_type": "text"
      },
      "source": [
        "<a href=\"https://colab.research.google.com/github/Bibekbishwas/labfpp1/blob/main/Assignment_2_and_3_.ipynb\" target=\"_parent\"><img src=\"https://colab.research.google.com/assets/colab-badge.svg\" alt=\"Open In Colab\"/></a>"
      ]
    },
    {
      "cell_type": "markdown",
      "metadata": {
        "id": "iFBrkTDFishY"
      },
      "source": [
        "# Assignment - 2\n",
        "# Execute and explain 10 most used commands in numpy \n",
        "# and 5 most used commands in Pandas\n",
        "\n",
        "**Numpy**\n",
        "\n",
        "1. array\n",
        "2. empty\n",
        "3. zeros\n",
        "4. ones\n",
        "5. vstack\n",
        "6. hstack\n",
        "7. \" Indexing \"\n",
        "8. \" Slicing \"\n",
        "9.  hape\n",
        "10. Reshape\n",
        "11. \" Broadcasting \"\n",
        "\n",
        "** Pandas\n",
        "\n",
        "1. DataFrame, Series\n",
        "2. head\n",
        "3. describe\n",
        "4. loc,iloc\n",
        "5. read_csv"
      ]
    },
    {
      "cell_type": "markdown",
      "metadata": {
        "id": "W-R8YHDLgsTR"
      },
      "source": [
        "# Assignment - 3\n",
        "# Compute the following with and without using libraries (numpy, scipy)       and interpret the computed values\n",
        "\n",
        "1. Variance\n",
        "2. Standard deviation\n",
        "3. Covariance and Covariance Matrix\n",
        "4. Correlation Coefficient and Correlation Matrix\n",
        "\n",
        "# Execute the following Normalization methods and comment about them\n",
        "\n",
        "5. Min-Max normalization\n",
        "6. Standard Normlaization\n",
        "\n",
        "# Compute different types of distances between two points\n",
        "\n",
        "7. Euclidean distance\n",
        "8. Manhattan distance\n",
        "9. Chebyshev distance\n",
        "\n",
        "# Advanced Question\n",
        "10. Explain Mahalanobis distance.\n"
      ]
    },
    {
      "cell_type": "markdown",
      "metadata": {
        "id": "p-kQgWCKirHQ"
      },
      "source": [
        ""
      ]
    },
    {
      "cell_type": "code",
      "metadata": {
        "id": "Buqohfz5iPbR",
        "outputId": "8c0db345-a81e-4995-e99d-f7351d6a4683",
        "colab": {
          "base_uri": "https://localhost:8080/"
        }
      },
      "source": [
        "import numpy as np\n",
        "\n",
        "# 1D array \n",
        "x = [7.8, 8.2, 8.7, 9.2, 9.5] \n",
        "y = [3, 3.2, 3.8, 4.1, 9.4] \n",
        "print(\"X : \", x) \n",
        "print(\"X : \", x) \n",
        "print(\"var of x : \", np.var(x)) \n",
        "print(\"var of y : \", np.var(y))\n",
        "\n",
        "print(\"\\nvar of x : \", np.var(x, dtype = np.float32)) \n",
        "print(\"\\nvar of y : \", np.var(y, dtype = np.float32))\n",
        "print(\"\\nvar of x : \", np.var(x, dtype = np.float64))\n",
        "print(\"\\nvar of y : \", np.var(y, dtype = np.float64))"
      ],
      "execution_count": 8,
      "outputs": [
        {
          "output_type": "stream",
          "name": "stdout",
          "text": [
            "X :  [7.8, 8.2, 8.7, 9.2, 9.5]\n",
            "X :  [7.8, 8.2, 8.7, 9.2, 9.5]\n",
            "var of x :  0.38960000000000006\n",
            "var of y :  5.6800000000000015\n",
            "\n",
            "var of x :  0.38959998\n",
            "\n",
            "var of y :  5.68\n",
            "\n",
            "var of x :  0.38960000000000006\n",
            "\n",
            "var of y :  5.6800000000000015\n"
          ]
        }
      ]
    },
    {
      "cell_type": "code",
      "metadata": {
        "id": "0VJZUey1zQLw",
        "outputId": "5930406f-f611-4f3b-db24-e32f43fbc67b",
        "colab": {
          "base_uri": "https://localhost:8080/"
        }
      },
      "source": [
        "import numpy as np\n",
        "\n",
        "x = [7.8, 8.2, 8.7, 9.2, 9.5] \n",
        "y = [3, 3.2, 3.8, 4.1, 9.4]\n",
        "#find out covariance with respect columns\n",
        "cov_mat= np.stack((x , y ), axis=0)\n",
        "print(np.cov(cov_mat))"
      ],
      "execution_count": 9,
      "outputs": [
        {
          "output_type": "stream",
          "name": "stdout",
          "text": [
            "[[0.487 1.435]\n",
            " [1.435 7.1  ]]\n"
          ]
        }
      ]
    },
    {
      "cell_type": "code",
      "metadata": {
        "colab": {
          "base_uri": "https://localhost:8080/"
        },
        "id": "Q-0yc2LkzXH_",
        "outputId": "6019b900-b55a-4aa3-c69f-34308cf2a858"
      },
      "source": [
        "print(A.shape)"
      ],
      "execution_count": null,
      "outputs": [
        {
          "output_type": "stream",
          "name": "stdout",
          "text": [
            "(6,)\n"
          ]
        }
      ]
    },
    {
      "cell_type": "code",
      "metadata": {
        "colab": {
          "base_uri": "https://localhost:8080/"
        },
        "id": "p04t9k4RzYy-",
        "outputId": "d08010ab-260f-413c-8b27-bdd095320704"
      },
      "source": [
        "A[:,np.newaxis]"
      ],
      "execution_count": null,
      "outputs": [
        {
          "output_type": "execute_result",
          "data": {
            "text/plain": [
              "array([[1],\n",
              "       [2],\n",
              "       [3],\n",
              "       [4],\n",
              "       [5],\n",
              "       [6]])"
            ]
          },
          "metadata": {},
          "execution_count": 4
        }
      ]
    },
    {
      "cell_type": "code",
      "metadata": {
        "colab": {
          "base_uri": "https://localhost:8080/"
        },
        "id": "1WmN1LCMztst",
        "outputId": "0ca5fe96-538b-439b-85bc-798b0cb1b666"
      },
      "source": [
        "B = A[:,np.newaxis]\n",
        "print(B.shape)"
      ],
      "execution_count": null,
      "outputs": [
        {
          "output_type": "stream",
          "name": "stdout",
          "text": [
            "(6, 1)\n"
          ]
        }
      ]
    },
    {
      "cell_type": "code",
      "metadata": {
        "colab": {
          "base_uri": "https://localhost:8080/"
        },
        "id": "3viK9cnEzz-k",
        "outputId": "4ef73f1e-5598-4aae-87ea-be8ac3006d95"
      },
      "source": [
        "np.transpose(B).shape"
      ],
      "execution_count": null,
      "outputs": [
        {
          "output_type": "execute_result",
          "data": {
            "text/plain": [
              "(1, 6)"
            ]
          },
          "metadata": {},
          "execution_count": 7
        }
      ]
    },
    {
      "cell_type": "code",
      "metadata": {
        "colab": {
          "base_uri": "https://localhost:8080/"
        },
        "id": "kSC_WDwvz8n8",
        "outputId": "08c113f9-f0d3-484f-d03d-80d42bf7716e"
      },
      "source": [
        "np.transpose(A).shape"
      ],
      "execution_count": null,
      "outputs": [
        {
          "output_type": "execute_result",
          "data": {
            "text/plain": [
              "(6,)"
            ]
          },
          "metadata": {},
          "execution_count": 9
        }
      ]
    },
    {
      "cell_type": "code",
      "metadata": {
        "id": "ENyy5BvE05Xs",
        "outputId": "d5ef7fe1-7a85-4ed5-8a5d-f03cbe347061",
        "colab": {
          "base_uri": "https://localhost:8080/"
        }
      },
      "source": [
        " import numpy as np\n",
        "\n",
        "x = [7.8, 8.2, 8.7, 9.2, 9.5] \n",
        "y = [3, 3.2, 3.8, 4.1, 9.4]\n",
        "#find out covariance with respect columns\n",
        "cov_mat= np.stack((x , y ), axis=0)\n",
        "print(np.cov(cov_mat))\n",
        "r=np.corrcoef(x,y)\n",
        "print(r)"
      ],
      "execution_count": 10,
      "outputs": [
        {
          "output_type": "stream",
          "name": "stdout",
          "text": [
            "[[0.487 1.435]\n",
            " [1.435 7.1  ]]\n",
            "[[1.         0.77171732]\n",
            " [0.77171732 1.        ]]\n"
          ]
        }
      ]
    }
  ]
}