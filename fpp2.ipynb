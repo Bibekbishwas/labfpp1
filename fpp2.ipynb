{
  "nbformat": 4,
  "nbformat_minor": 0,
  "metadata": {
    "colab": {
      "name": "Untitled1.ipynb",
      "provenance": [],
      "collapsed_sections": [],
      "authorship_tag": "ABX9TyMwTahRPT3Qq0tMN977wRry",
      "include_colab_link": true
    },
    "kernelspec": {
      "name": "python3",
      "display_name": "Python 3"
    }
  },
  "cells": [
    {
      "cell_type": "markdown",
      "metadata": {
        "id": "view-in-github",
        "colab_type": "text"
      },
      "source": [
        "<a href=\"https://colab.research.google.com/github/Bibekbishwas/labfpp1/blob/main/fpp2.ipynb\" target=\"_parent\"><img src=\"https://colab.research.google.com/assets/colab-badge.svg\" alt=\"Open In Colab\"/></a>"
      ]
    },
    {
      "cell_type": "code",
      "metadata": {
        "colab": {
          "base_uri": "https://localhost:8080/"
        },
        "id": "UgbDxUxod__I",
        "outputId": "5274388a-6284-4234-c816-152480b178ec"
      },
      "source": [
        "a=input(\"enter your name\")\r\n",
        "b=input(\"enter your age\")\r\n",
        "c=input(\"enter your address\")\r\n",
        "print(\"name:\",a,\"age:\",b,\"address:\",c)"
      ],
      "execution_count": 1,
      "outputs": [
        {
          "output_type": "stream",
          "text": [
            "enter your namebibek\n",
            "enter your age21\n",
            "enter your addressbrt\n",
            "name: bibek age: 21 address: brt\n"
          ],
          "name": "stdout"
        }
      ]
    },
    {
      "cell_type": "code",
      "metadata": {
        "id": "67TDYZ1AnyRe",
        "outputId": "cacf68b3-fee8-4a63-8570-b47474c85a8a",
        "colab": {
          "base_uri": "https://localhost:8080/"
        }
      },
      "source": [
        "a=int(input(\"enter nep marks\"))\r\n",
        "b=int(input(\"enter math mark\"))\r\n",
        "c=int(input(\"enter eng mark\"))\r\n",
        "d=int(input(\"enter full marks\"))\r\n",
        "s=(a+b+c)\r\n",
        "per=(s/d)*100\r\n",
        "print(\"sum:\",s,\"percentage:\",per)\r\n"
      ],
      "execution_count": 8,
      "outputs": [
        {
          "output_type": "stream",
          "text": [
            "enter nep marks74\n",
            "enter math mark8\n",
            "enter eng mark4\n",
            "enter full marks178\n",
            "sum: 86 percentage: 48.31460674157304\n"
          ],
          "name": "stdout"
        }
      ]
    },
    {
      "cell_type": "code",
      "metadata": {
        "id": "dBA9V1f-rUe0",
        "outputId": "305c701f-1ca3-4c25-e24a-091ebc937950",
        "colab": {
          "base_uri": "https://localhost:8080/"
        }
      },
      "source": [
        "a=int(input(\"enter radius of sphere\"))\r\n",
        "v=(4/3)*3.14*a*a*a\r\n",
        "print(\"vol of sphere:\",v)"
      ],
      "execution_count": 14,
      "outputs": [
        {
          "output_type": "stream",
          "text": [
            "enter radius of sphere8\n",
            "vol of sphere: 2143.5733333333333\n"
          ],
          "name": "stdout"
        }
      ]
    },
    {
      "cell_type": "code",
      "metadata": {
        "id": "zzx8_ZGxs1EK",
        "outputId": "b44d6e24-db9d-406e-d68d-31af6691d4b1",
        "colab": {
          "base_uri": "https://localhost:8080/"
        }
      },
      "source": [
        "a=int(input(\"enter area of circle\"))\r\n",
        "A=3.14*a*a\r\n",
        "print(\"area of circle:\",A)"
      ],
      "execution_count": 15,
      "outputs": [
        {
          "output_type": "stream",
          "text": [
            "enter area of circle4\n",
            "area of circle: 50.24\n"
          ],
          "name": "stdout"
        }
      ]
    }
  ]
}