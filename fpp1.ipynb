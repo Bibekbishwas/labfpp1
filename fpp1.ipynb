{
  "nbformat": 4,
  "nbformat_minor": 0,
  "metadata": {
    "colab": {
      "name": "Untitled1.ipynb",
      "provenance": [],
      "collapsed_sections": [],
      "authorship_tag": "ABX9TyPMWcXXitkQtSExe5De75In",
      "include_colab_link": true
    },
    "kernelspec": {
      "name": "python3",
      "display_name": "Python 3"
    }
  },
  "cells": [
    {
      "cell_type": "markdown",
      "metadata": {
        "id": "view-in-github",
        "colab_type": "text"
      },
      "source": [
        "<a href=\"https://colab.research.google.com/github/Bibekbishwas/labfpp1/blob/main/fpp1.ipynb\" target=\"_parent\"><img src=\"https://colab.research.google.com/assets/colab-badge.svg\" alt=\"Open In Colab\"/></a>"
      ]
    },
    {
      "cell_type": "code",
      "metadata": {
        "colab": {
          "base_uri": "https://localhost:8080/"
        },
        "id": "UgbDxUxod__I",
        "outputId": "4296c6df-ad54-4951-d4fd-b2f4d3567fc2"
      },
      "source": [
        "a=input(\"enter your name\")\r\n",
        "b=input(\"enter your age\")\r\n",
        "c=input(\"enter your address\")\r\n",
        "print(\"name:\",a,\"age:\",b,\"address:\",c)"
      ],
      "execution_count": 2,
      "outputs": [
        {
          "output_type": "stream",
          "text": [
            "enter your namebibek\n",
            "enter your age20\n",
            "enter your addressbrt\n",
            "name: bibek age: 20 address: brt\n"
          ],
          "name": "stdout"
        }
      ]
    },
    {
      "cell_type": "code",
      "metadata": {
        "id": "Ug3uJVg8gwi1"
      },
      "source": [
        "a=input(\"enter 1st ma\")"
      ],
      "execution_count": null,
      "outputs": []
    }
  ]
}