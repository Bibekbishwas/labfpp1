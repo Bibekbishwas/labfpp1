{
  "nbformat": 4,
  "nbformat_minor": 0,
  "metadata": {
    "colab": {
      "name": "lab 2pff.ipynb",
      "provenance": [],
      "collapsed_sections": [],
      "authorship_tag": "ABX9TyNuoXKlQLiqs5ehg5X737iy",
      "include_colab_link": true
    },
    "kernelspec": {
      "name": "python3",
      "display_name": "Python 3"
    }
  },
  "cells": [
    {
      "cell_type": "markdown",
      "metadata": {
        "id": "view-in-github",
        "colab_type": "text"
      },
      "source": [
        "<a href=\"https://colab.research.google.com/github/Bibekbishwas/labfpp1/blob/main/lab_2FPP.ipynb\" target=\"_parent\"><img src=\"https://colab.research.google.com/assets/colab-badge.svg\" alt=\"Open In Colab\"/></a>"
      ]
    },
    {
      "cell_type": "code",
      "metadata": {
        "colab": {
          "base_uri": "https://localhost:8080/"
        },
        "id": "8hrAPD6ac8Qw",
        "outputId": "a25cebc0-3500-4eab-cb0f-c4945e028ddb"
      },
      "source": [
        "P=float(input(\"enter the principle\"))\r\n",
        "r=float(input(\"enter rate\"))\r\n",
        "T=float(input(\"enter time\"))\r\n",
        "si=(P*r*T)/100\r\n",
        "amount=P*(1+r/100)**T\r\n",
        "ci=amount-P\r\n",
        "print(\"simple interest:\",si,\"compound interest:\",ci)"
      ],
      "execution_count": 17,
      "outputs": [
        {
          "output_type": "stream",
          "text": [
            "enter the principle4\n",
            "enter rate5\n",
            "enter time8\n",
            "simple interest: 1.6 compound interest: 1.909821775156252\n"
          ],
          "name": "stdout"
        }
      ]
    },
    {
      "cell_type": "code",
      "metadata": {
        "colab": {
          "base_uri": "https://localhost:8080/"
        },
        "id": "B55vjX48kZJi",
        "outputId": "c06e7ab3-3420-4323-9bc3-438d33f032a4"
      },
      "source": [
        "a=input(\"enter 1st name\")\r\n",
        "b=input(\"enter middle name\")\r\n",
        "c=input(\"enter last name\")\r\n",
        "D=a+\" \"+b+\" \"+c\r\n",
        "print(D)"
      ],
      "execution_count": 26,
      "outputs": [
        {
          "output_type": "stream",
          "text": [
            "enter 1st nameram\n",
            "enter middle namekumar\n",
            "enter last nameshah\n",
            "ram kumar shah\n"
          ],
          "name": "stdout"
        }
      ]
    },
    {
      "cell_type": "code",
      "metadata": {
        "colab": {
          "base_uri": "https://localhost:8080/"
        },
        "id": "pAj54SWKn4xX",
        "outputId": "34f57a0e-8970-46f3-8b28-afd096fda66b"
      },
      "source": [
        "a=[[1,2,3,4],[5,6,7,8],[9,10,12,11]]\r\n",
        "print(a)"
      ],
      "execution_count": 35,
      "outputs": [
        {
          "output_type": "stream",
          "text": [
            "[[1, 2, 3, 4], [5, 6, 7, 8], [9, 10, 12, 11]]\n"
          ],
          "name": "stdout"
        }
      ]
    },
    {
      "cell_type": "code",
      "metadata": {
        "colab": {
          "base_uri": "https://localhost:8080/"
        },
        "id": "4uhreTIGsw7Q",
        "outputId": "9dc92db5-394c-45e1-b651-edeacf75539a"
      },
      "source": [
        "import math\r\n",
        "x1=int(input(\"enter value x1\"))\r\n",
        "x2=int(input(\"enter value x2\"))\r\n",
        "y1=int(input(\"enter value y1\"))\r\n",
        "y2=int(input(\"enter value y2\"))\r\n",
        "d=math.sqrt((x2-x1)**2+(y2-y1)**2)\r\n",
        "print(\"the between 2point is:\",d)"
      ],
      "execution_count": 39,
      "outputs": [
        {
          "output_type": "stream",
          "text": [
            "enter value x14\n",
            "enter value x25\n",
            "enter value y17\n",
            "enter value y28\n",
            "the between 2point is: 1.4142135623730951\n"
          ],
          "name": "stdout"
        }
      ]
    }
  ]
}